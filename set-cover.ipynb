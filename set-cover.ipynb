{
 "cells": [
  {
   "cell_type": "markdown",
   "metadata": {},
   "source": [
    "Copyright **`(c)`** 2024 Giovanni Squillero `<giovanni.squillero@polito.it>`  \n",
    "[`https://github.com/squillero/computational-intelligence`](https://github.com/squillero/computational-intelligence)  \n",
    "Free for personal or classroom use; see [`LICENSE.md`](https://github.com/squillero/computational-intelligence/blob/master/LICENSE.md) for details.  "
   ]
  },
  {
   "cell_type": "markdown",
   "metadata": {},
   "source": [
    "# Lab 1 - Lorenzo Formentin"
   ]
  },
  {
   "cell_type": "markdown",
   "metadata": {},
   "source": [
    "# Set Cover problem\n",
    "\n",
    "See: https://en.wikipedia.org/wiki/Set_cover_problem"
   ]
  },
  {
   "cell_type": "code",
   "execution_count": 53,
   "metadata": {},
   "outputs": [],
   "source": [
    "from random import random, seed\n",
    "from itertools import product\n",
    "from itertools import accumulate\n",
    "import numpy as np\n",
    "from icecream import ic\n",
    "from matplotlib import pyplot as plt\n",
    "from tqdm.auto import tqdm"
   ]
  },
  {
   "cell_type": "markdown",
   "metadata": {},
   "source": [
    "## Reproducible Initialization\n",
    "\n",
    "If you want to get reproducible results, use `rng` (and restart the kernel); for non-reproducible ones, use `np.random`."
   ]
  },
  {
   "cell_type": "code",
   "execution_count": 54,
   "metadata": {},
   "outputs": [],
   "source": [
    "UNIVERSE_SIZE = 10000 #100_000\n",
    "NUM_SETS = 1000 #10_000\n",
    "DENSITY = 0.2 #0.3\n",
    "\n",
    "MAX_ITERATION = NUM_SETS * 2\n",
    "\n",
    "rng = np.random.Generator(np.random.PCG64([UNIVERSE_SIZE, NUM_SETS, int(10_000 * DENSITY)]))"
   ]
  },
  {
   "cell_type": "code",
   "execution_count": 55,
   "metadata": {},
   "outputs": [],
   "source": [
    "# DON'T EDIT THESE LINES!\n",
    "\n",
    "SETS = np.random.random((NUM_SETS, UNIVERSE_SIZE)) < DENSITY\n",
    "for s in range(UNIVERSE_SIZE):\n",
    "    if not np.any(SETS[:, s]):\n",
    "        SETS[np.random.randint(NUM_SETS), s] = True\n",
    "COSTS = np.power(SETS.sum(axis=1), 1.1)"
   ]
  },
  {
   "cell_type": "markdown",
   "metadata": {},
   "source": [
    "## Helper Functions"
   ]
  },
  {
   "cell_type": "code",
   "execution_count": 56,
   "metadata": {},
   "outputs": [],
   "source": [
    "def valid(solution):\n",
    "    \"\"\"Checks wether solution is valid (ie. covers all universe)\"\"\"\n",
    "    return np.all(np.logical_or.reduce(SETS[solution]))\n",
    "\n",
    "\n",
    "def cost(solution):\n",
    "    \"\"\"Returns the cost of a solution (to be minimized)\"\"\"\n",
    "    return COSTS[solution].sum()\n",
    "\n",
    "def fitness(solution):\n",
    "    return (valid(solution), -cost(solution))"
   ]
  },
  {
   "cell_type": "markdown",
   "metadata": {},
   "source": [
    "## Have Fun!"
   ]
  },
  {
   "cell_type": "code",
   "execution_count": 57,
   "metadata": {},
   "outputs": [
    {
     "data": {
      "text/plain": [
       "(True, 4278915.654413476)"
      ]
     },
     "execution_count": 57,
     "metadata": {},
     "output_type": "execute_result"
    }
   ],
   "source": [
    "# A dumb solution of \"all\" sets\n",
    "solution = np.full(NUM_SETS, True)\n",
    "valid(solution), cost(solution)"
   ]
  },
  {
   "cell_type": "code",
   "execution_count": 58,
   "metadata": {},
   "outputs": [
    {
     "data": {
      "text/plain": [
       "(True, 2137443.858379106)"
      ]
     },
     "execution_count": 58,
     "metadata": {},
     "output_type": "execute_result"
    }
   ],
   "source": [
    "# A random solution with random 50% of the sets\n",
    "solution = rng.random(NUM_SETS) < .5\n",
    "valid(solution), cost(solution)"
   ]
  },
  {
   "cell_type": "code",
   "execution_count": 59,
   "metadata": {},
   "outputs": [],
   "source": [
    "def tweak(solution, dim=1):\n",
    "    new_solution = solution.copy()\n",
    "    indices = rng.choice(NUM_SETS, size=dim, replace=False)\n",
    "    for i in indices:\n",
    "        new_solution[i] = not new_solution[i]\n",
    "        if valid(solution) and not valid(new_solution):\n",
    "            return solution \n",
    "    return new_solution\n",
    "\n",
    "def steepest_ascent(solution, k=5):\n",
    "    best_sol = solution\n",
    "    for _ in range(k):\n",
    "        new_solution = tweak(solution)\n",
    "        if fitness(new_solution) > fitness(best_sol):\n",
    "            best_sol = new_solution\n",
    "    return best_sol"
   ]
  },
  {
   "cell_type": "code",
   "execution_count": 60,
   "metadata": {},
   "outputs": [
    {
     "name": "stderr",
     "output_type": "stream",
     "text": [
      "  0%|          | 2/2000 [00:00<06:57,  4.79it/s]"
     ]
    },
    {
     "name": "stderr",
     "output_type": "stream",
     "text": [
      "100%|██████████| 2000/2000 [01:28<00:00, 22.65it/s] \n",
      "ic| valid(solution): True, fitness(solution)[1]: -130329.52530607338\n",
      "ic| history.index(float(fitness(solution)[1])): 1470\n"
     ]
    },
    {
     "data": {
      "image/png": "[encoded data removed]",
      "text/plain": [
       "<Figure size 1008x576 with 1 Axes>"
      ]
     },
     "metadata": {
      "needs_background": "light"
     },
     "output_type": "display_data"
    }
   ],
   "source": [
    "solution = np.full(NUM_SETS, True) \n",
    "\n",
    "history = [float(fitness(solution)[1])]\n",
    "for i in tqdm(range(MAX_ITERATION)):\n",
    "    solution = steepest_ascent(solution)\n",
    "    history.append(float(fitness(solution)[1]))\n",
    "\n",
    "\n",
    "ic(valid(solution), fitness(solution)[1])\n",
    "ic(history.index(float(fitness(solution)[1])))\n",
    "\n",
    "plt.figure(figsize=(14, 8))\n",
    "plt.plot(\n",
    "    range(len(history)),\n",
    "    list(accumulate(history, max)),\n",
    "    color=\"red\",\n",
    ")\n",
    "_ = plt.scatter(range(len(history)), history, marker=\".\")"
   ]
  }
 ],
 "metadata": {
  "kernelspec": {
   "display_name": "Python 3 (ipykernel)",
   "language": "python",
   "name": "python3"
  },
  "language_info": {
   "codemirror_mode": {
    "name": "ipython",
    "version": 3
   },
   "file_extension": ".py",
   "mimetype": "text/x-python",
   "name": "python",
   "nbconvert_exporter": "python",
   "pygments_lexer": "ipython3",
   "version": "3.10.12"
  }
 },
 "nbformat": 4,
 "nbformat_minor": 4
}
